{
 "cells": [
  {
   "cell_type": "code",
   "execution_count": 2,
   "id": "8ab58c96-5c2c-4162-952c-74efdffd4680",
   "metadata": {},
   "outputs": [],
   "source": [
    "import pandas as pd\n",
    "import matplotlib.pyplot as plt\n",
    "import seaborn as sns\n",
    "from sklearn.preprocessing import StandardScaler, LabelEncoder\n",
    "import numpy as np\n",
    "from sklearn.linear_model import LinearRegression\n",
    "from sklearn.metrics import mean_squared_error, mean_absolute_error, r2_score\n",
    "from sklearn.decomposition import PCA"
   ]
  },
  {
   "cell_type": "code",
   "execution_count": 3,
   "id": "a858dd36-64f2-4b69-9486-7f00b13c467c",
   "metadata": {},
   "outputs": [],
   "source": [
    "# Train and test data will be loaded\n",
    "metadata_train_df = pd.read_csv('train/hwg_metadata.csv')\n",
    "measurements_train_df = pd.read_csv(\"train/measurements.csv\")\n",
    "metadata_test_df = pd.read_csv('test/hwg_metadata.csv')\n",
    "measurements_test_df = pd.read_csv(\"test/measurements.csv\")"
   ]
  },
  {
   "cell_type": "code",
   "execution_count": 4,
   "id": "b419a21f-f782-4ea4-90ab-a675d39d9f45",
   "metadata": {},
   "outputs": [],
   "source": [
    "# Data Preprocessing\n",
    "merged_train_df = pd.merge(measurements_train_df, metadata_train_df, on='subject_id')\n",
    "merged_test_df = pd.merge(measurements_test_df, metadata_test_df, on='subject_id')\n",
    "cleaned_train_df = merged_train_df.drop(['height_cm', 'subject_id'], axis=1)\n",
    "cleaned_test_df = merged_test_df.drop(['height_cm', 'subject_id'], axis=1)\n",
    "label_encoder = LabelEncoder()\n",
    "cleaned_train_df['gender'] = label_encoder.fit_transform(cleaned_train_df['gender'])\n",
    "cleaned_test_df['gender'] = label_encoder.fit_transform(cleaned_test_df['gender'])\n",
    "\n",
    "features_train = cleaned_train_df.drop('weight_kg', axis=1)\n",
    "target_train = cleaned_train_df['weight_kg']\n",
    "features_test = cleaned_test_df.drop('weight_kg', axis=1)\n",
    "target_test = cleaned_test_df['weight_kg']\n",
    "\n",
    "scaler = StandardScaler()\n",
    "scaled_features_train = scaler.fit_transform(features_train)\n",
    "scaled_features_test = scaler.transform(features_test)"
   ]
  },
  {
   "cell_type": "code",
   "execution_count": 5,
   "id": "3bdf1c67-b359-40a7-ada0-bd1c0fd51468",
   "metadata": {},
   "outputs": [
    {
     "data": {
      "text/html": [
       "<div>\n",
       "<style scoped>\n",
       "    .dataframe tbody tr th:only-of-type {\n",
       "        vertical-align: middle;\n",
       "    }\n",
       "\n",
       "    .dataframe tbody tr th {\n",
       "        vertical-align: top;\n",
       "    }\n",
       "\n",
       "    .dataframe thead th {\n",
       "        text-align: right;\n",
       "    }\n",
       "</style>\n",
       "<table border=\"1\" class=\"dataframe\">\n",
       "  <thead>\n",
       "    <tr style=\"text-align: right;\">\n",
       "      <th></th>\n",
       "      <th>ankle</th>\n",
       "      <th>arm-length</th>\n",
       "      <th>bicep</th>\n",
       "      <th>calf</th>\n",
       "      <th>chest</th>\n",
       "      <th>forearm</th>\n",
       "      <th>height</th>\n",
       "      <th>hip</th>\n",
       "      <th>leg-length</th>\n",
       "      <th>shoulder-breadth</th>\n",
       "      <th>shoulder-to-crotch</th>\n",
       "      <th>thigh</th>\n",
       "      <th>waist</th>\n",
       "      <th>wrist</th>\n",
       "      <th>gender</th>\n",
       "    </tr>\n",
       "  </thead>\n",
       "  <tbody>\n",
       "    <tr>\n",
       "      <th>0</th>\n",
       "      <td>-0.410688</td>\n",
       "      <td>-0.787471</td>\n",
       "      <td>-0.172231</td>\n",
       "      <td>0.126136</td>\n",
       "      <td>-0.277246</td>\n",
       "      <td>-0.315135</td>\n",
       "      <td>-0.391576</td>\n",
       "      <td>-0.134221</td>\n",
       "      <td>-0.847937</td>\n",
       "      <td>0.479230</td>\n",
       "      <td>-0.064086</td>\n",
       "      <td>-0.286807</td>\n",
       "      <td>-0.212941</td>\n",
       "      <td>-0.357344</td>\n",
       "      <td>0.810441</td>\n",
       "    </tr>\n",
       "    <tr>\n",
       "      <th>1</th>\n",
       "      <td>-0.387970</td>\n",
       "      <td>-0.346460</td>\n",
       "      <td>-0.468351</td>\n",
       "      <td>-1.115944</td>\n",
       "      <td>-0.482745</td>\n",
       "      <td>-0.632152</td>\n",
       "      <td>0.113036</td>\n",
       "      <td>-0.421468</td>\n",
       "      <td>-0.414099</td>\n",
       "      <td>-0.154675</td>\n",
       "      <td>0.254345</td>\n",
       "      <td>-1.048973</td>\n",
       "      <td>-0.354894</td>\n",
       "      <td>-0.367275</td>\n",
       "      <td>0.810441</td>\n",
       "    </tr>\n",
       "    <tr>\n",
       "      <th>2</th>\n",
       "      <td>-1.327390</td>\n",
       "      <td>-1.419911</td>\n",
       "      <td>-1.257912</td>\n",
       "      <td>-1.347536</td>\n",
       "      <td>-1.453101</td>\n",
       "      <td>-1.734764</td>\n",
       "      <td>-1.572019</td>\n",
       "      <td>-1.382177</td>\n",
       "      <td>-1.227402</td>\n",
       "      <td>-1.708434</td>\n",
       "      <td>-1.914485</td>\n",
       "      <td>-1.493351</td>\n",
       "      <td>-1.375575</td>\n",
       "      <td>-1.542464</td>\n",
       "      <td>-1.233896</td>\n",
       "    </tr>\n",
       "    <tr>\n",
       "      <th>3</th>\n",
       "      <td>-0.578533</td>\n",
       "      <td>-0.599981</td>\n",
       "      <td>-0.708576</td>\n",
       "      <td>-0.280311</td>\n",
       "      <td>-1.526592</td>\n",
       "      <td>-1.128809</td>\n",
       "      <td>-0.735006</td>\n",
       "      <td>-0.177098</td>\n",
       "      <td>-0.305384</td>\n",
       "      <td>-1.557977</td>\n",
       "      <td>-1.032714</td>\n",
       "      <td>-0.348517</td>\n",
       "      <td>-1.045699</td>\n",
       "      <td>-0.732931</td>\n",
       "      <td>-1.233896</td>\n",
       "    </tr>\n",
       "    <tr>\n",
       "      <th>4</th>\n",
       "      <td>-1.001800</td>\n",
       "      <td>-0.866868</td>\n",
       "      <td>0.756722</td>\n",
       "      <td>-0.536278</td>\n",
       "      <td>1.200650</td>\n",
       "      <td>-0.481383</td>\n",
       "      <td>-0.707168</td>\n",
       "      <td>0.467068</td>\n",
       "      <td>-0.638431</td>\n",
       "      <td>-0.926443</td>\n",
       "      <td>-0.368156</td>\n",
       "      <td>0.610917</td>\n",
       "      <td>0.820728</td>\n",
       "      <td>-0.624814</td>\n",
       "      <td>-1.233896</td>\n",
       "    </tr>\n",
       "  </tbody>\n",
       "</table>\n",
       "</div>"
      ],
      "text/plain": [
       "      ankle  arm-length     bicep      calf     chest   forearm    height  \\\n",
       "0 -0.410688   -0.787471 -0.172231  0.126136 -0.277246 -0.315135 -0.391576   \n",
       "1 -0.387970   -0.346460 -0.468351 -1.115944 -0.482745 -0.632152  0.113036   \n",
       "2 -1.327390   -1.419911 -1.257912 -1.347536 -1.453101 -1.734764 -1.572019   \n",
       "3 -0.578533   -0.599981 -0.708576 -0.280311 -1.526592 -1.128809 -0.735006   \n",
       "4 -1.001800   -0.866868  0.756722 -0.536278  1.200650 -0.481383 -0.707168   \n",
       "\n",
       "        hip  leg-length  shoulder-breadth  shoulder-to-crotch     thigh  \\\n",
       "0 -0.134221   -0.847937          0.479230           -0.064086 -0.286807   \n",
       "1 -0.421468   -0.414099         -0.154675            0.254345 -1.048973   \n",
       "2 -1.382177   -1.227402         -1.708434           -1.914485 -1.493351   \n",
       "3 -0.177098   -0.305384         -1.557977           -1.032714 -0.348517   \n",
       "4  0.467068   -0.638431         -0.926443           -0.368156  0.610917   \n",
       "\n",
       "      waist     wrist    gender  \n",
       "0 -0.212941 -0.357344  0.810441  \n",
       "1 -0.354894 -0.367275  0.810441  \n",
       "2 -1.375575 -1.542464 -1.233896  \n",
       "3 -1.045699 -0.732931 -1.233896  \n",
       "4  0.820728 -0.624814 -1.233896  "
      ]
     },
     "execution_count": 5,
     "metadata": {},
     "output_type": "execute_result"
    }
   ],
   "source": [
    "# Visualzization of scaled fetures on the test data\n",
    "scaled_features_test_df = pd.DataFrame(scaled_features_test, columns=features_test.columns)\n",
    "scaled_features_test_df.head()"
   ]
  },
  {
   "cell_type": "markdown",
   "id": "c16cc7db-e818-4d5a-bf3d-afc5f6b18f68",
   "metadata": {},
   "source": [
    "## Fitting a model without PCA"
   ]
  },
  {
   "cell_type": "code",
   "execution_count": 10,
   "id": "694c0766-56ff-4f45-9f32-c2637b542649",
   "metadata": {},
   "outputs": [
    {
     "data": {
      "text/plain": [
       "(9.519707968942534, 2.1547636933874452, 0.9734757282698714)"
      ]
     },
     "execution_count": 10,
     "metadata": {},
     "output_type": "execute_result"
    }
   ],
   "source": [
    "linear_reg = LinearRegression()\n",
    "linear_reg.fit(scaled_features_train, target_train)\n",
    "\n",
    "# Predicting on the test data\n",
    "predictions_no_pca = linear_reg.predict(scaled_features_test)\n",
    "\n",
    "# Evaluating the model\n",
    "mse_no_pca = mean_squared_error(target_test, predictions_no_pca)\n",
    "mae_no_pca = mean_absolute_error(target_test, predictions_no_pca)\n",
    "r2_no_pca = r2_score(target_test, predictions_no_pca)\n",
    "\n",
    "mse_no_pca, mae_no_pca, r2_no_pca"
   ]
  },
  {
   "cell_type": "markdown",
   "id": "ab27cc2a-6db0-4bcf-9b1a-0bab3ae98538",
   "metadata": {},
   "source": [
    "## Fitting a model wit PCA"
   ]
  },
  {
   "cell_type": "code",
   "execution_count": 7,
   "id": "bb80e154-acb2-46b6-848c-889319ff3631",
   "metadata": {},
   "outputs": [
    {
     "data": {
      "text/plain": [
       "array([0.63068671, 0.19473418, 0.05655154, 0.03314555, 0.02182843])"
      ]
     },
     "execution_count": 7,
     "metadata": {},
     "output_type": "execute_result"
    }
   ],
   "source": [
    "pca = PCA(n_components=scaled_features_train.shape[1])\n",
    "pca.fit(scaled_features_train)\n",
    "\n",
    "pca_transformed_train = pca.transform(scaled_features_train)\n",
    "pca_transformed_test = pca.transform(scaled_features_test)\n",
    "\n",
    "# Displaying the variance ratio explained by the first few components\n",
    "pca.explained_variance_ratio_[:5]\n"
   ]
  },
  {
   "cell_type": "code",
   "execution_count": 8,
   "id": "1ef550dc-27d6-429e-abf0-2a6b7446f959",
   "metadata": {},
   "outputs": [],
   "source": [
    "# Function for applying Linear Regression to reduced data with different components\n",
    "def fit_and_evaluate_pca_model(k, pca_transformed_train_data, train_target, pca_transformed_test_data, test_target):\n",
    "    # Using the first K components\n",
    "    reduced_train_features = pca_transformed_train_data[:, :k]\n",
    "    reduced_test_features = pca_transformed_test_data[:, :k]\n",
    "\n",
    "    # Fitting the linear regression model\n",
    "    model = LinearRegression()\n",
    "    model.fit(reduced_train_features, train_target)\n",
    "\n",
    "    # Predicting and evaluating the model\n",
    "    predictions = model.predict(reduced_test_features)\n",
    "    mse = mean_squared_error(test_target, predictions)\n",
    "    mae = mean_absolute_error(test_target, predictions)\n",
    "    r2 = r2_score(test_target, predictions)\n",
    "\n",
    "    return mse, mae, r2"
   ]
  },
  {
   "cell_type": "code",
   "execution_count": 9,
   "id": "355c9fa9-5451-4815-ae67-06727e7fcae4",
   "metadata": {},
   "outputs": [
    {
     "data": {
      "text/html": [
       "<div>\n",
       "<style scoped>\n",
       "    .dataframe tbody tr th:only-of-type {\n",
       "        vertical-align: middle;\n",
       "    }\n",
       "\n",
       "    .dataframe tbody tr th {\n",
       "        vertical-align: top;\n",
       "    }\n",
       "\n",
       "    .dataframe thead th {\n",
       "        text-align: right;\n",
       "    }\n",
       "</style>\n",
       "<table border=\"1\" class=\"dataframe\">\n",
       "  <thead>\n",
       "    <tr style=\"text-align: right;\">\n",
       "      <th></th>\n",
       "      <th>K</th>\n",
       "      <th>MSE</th>\n",
       "      <th>MAE</th>\n",
       "      <th>R2</th>\n",
       "    </tr>\n",
       "  </thead>\n",
       "  <tbody>\n",
       "    <tr>\n",
       "      <th>0</th>\n",
       "      <td>1</td>\n",
       "      <td>33.064122</td>\n",
       "      <td>4.187822</td>\n",
       "      <td>0.907875</td>\n",
       "    </tr>\n",
       "    <tr>\n",
       "      <th>1</th>\n",
       "      <td>2</td>\n",
       "      <td>14.339080</td>\n",
       "      <td>2.788670</td>\n",
       "      <td>0.960048</td>\n",
       "    </tr>\n",
       "    <tr>\n",
       "      <th>2</th>\n",
       "      <td>3</td>\n",
       "      <td>13.233823</td>\n",
       "      <td>2.661936</td>\n",
       "      <td>0.963127</td>\n",
       "    </tr>\n",
       "    <tr>\n",
       "      <th>3</th>\n",
       "      <td>4</td>\n",
       "      <td>10.700932</td>\n",
       "      <td>2.358744</td>\n",
       "      <td>0.970185</td>\n",
       "    </tr>\n",
       "    <tr>\n",
       "      <th>4</th>\n",
       "      <td>5</td>\n",
       "      <td>9.835015</td>\n",
       "      <td>2.232707</td>\n",
       "      <td>0.972597</td>\n",
       "    </tr>\n",
       "  </tbody>\n",
       "</table>\n",
       "</div>"
      ],
      "text/plain": [
       "   K        MSE       MAE        R2\n",
       "0  1  33.064122  4.187822  0.907875\n",
       "1  2  14.339080  2.788670  0.960048\n",
       "2  3  13.233823  2.661936  0.963127\n",
       "3  4  10.700932  2.358744  0.970185\n",
       "4  5   9.835015  2.232707  0.972597"
      ]
     },
     "execution_count": 9,
     "metadata": {},
     "output_type": "execute_result"
    }
   ],
   "source": [
    "# Creating dataframe for each K and corresponding metrics\n",
    "k_values = [1, 2, 3, 4, 5]\n",
    "pca_metrics = {'K': [], 'MSE': [], 'MAE': [], 'R2': []}\n",
    "\n",
    "for k in k_values:\n",
    "    mse, mae, r2 = fit_and_evaluate_pca_model(k, pca_transformed_train, target_train, pca_transformed_test, target_test)\n",
    "    pca_metrics['K'].append(k)\n",
    "    pca_metrics['MSE'].append(mse)\n",
    "    pca_metrics['MAE'].append(mae)\n",
    "    pca_metrics['R2'].append(r2)\n",
    "\n",
    "# Converting metrics to a DataFrame for better visualization\n",
    "pca_metrics_df = pd.DataFrame(pca_metrics)\n",
    "pca_metrics_df"
   ]
  },
  {
   "cell_type": "code",
   "execution_count": 10,
   "id": "1eb4b656-0270-4a08-bdda-8b43156fe6a1",
   "metadata": {},
   "outputs": [
    {
     "data": {
      "image/png": "[encoded data removed]",
      "text/plain": [
       "<Figure size 1000x500 with 1 Axes>"
      ]
     },
     "metadata": {},
     "output_type": "display_data"
    }
   ],
   "source": [
    "#MSE vs Number of Principal Components (K) graph\n",
    "plt.figure(figsize=(10, 5))\n",
    "plt.plot(pca_metrics_df['K'], pca_metrics_df['MSE'], 'o-', color='blue')\n",
    "plt.title('MSE vs Number of Principal Components (K)')\n",
    "plt.xlabel('Number of Principal Components (K)')\n",
    "plt.ylabel('Mean Squared Error (MSE)')\n",
    "plt.grid(True)\n",
    "plt.show()"
   ]
  },
  {
   "cell_type": "markdown",
   "id": "48ff4db5-6644-4d62-a26e-0816401b91b5",
   "metadata": {},
   "source": [
    "#### We can see that there is sharp decrease in MSE until 2 first 2 component, then rate of decrease is slowed down\n",
    "#### We should choose K in a way that it should still capture enough varience and providing computational efficens by without adding unnecessary complexity\n",
    "#### As we can see from the above graph, If we choose K as 2 we can still capture enough information and there is no signifiact effect of increasing K "
   ]
  },
  {
   "cell_type": "code",
   "execution_count": null,
   "id": "a6fd8adc-67bd-413e-997f-c8660a38319f",
   "metadata": {},
   "outputs": [],
   "source": []
  }
 ],
 "metadata": {
  "kernelspec": {
   "display_name": "Python 3 (ipykernel)",
   "language": "python",
   "name": "python3"
  },
  "language_info": {
   "codemirror_mode": {
    "name": "ipython",
    "version": 3
   },
   "file_extension": ".py",
   "mimetype": "text/x-python",
   "name": "python",
   "nbconvert_exporter": "python",
   "pygments_lexer": "ipython3",
   "version": "3.11.5"
  }
 },
 "nbformat": 4,
 "nbformat_minor": 5
}
